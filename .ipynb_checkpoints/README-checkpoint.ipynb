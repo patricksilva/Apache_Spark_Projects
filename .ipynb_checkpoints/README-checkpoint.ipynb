{
 "cells": [
  {
   "cell_type": "markdown",
   "metadata": {},
   "source": [
    "# README"
   ]
  },
  {
   "cell_type": "markdown",
   "metadata": {},
   "source": [
    "## Installing [Spark](http://spark.apache.org/downloads.html)"
   ]
  },
  {
   "cell_type": "markdown",
   "metadata": {},
   "source": [
    "## Installing Jupyter application called [toree](https://toree.apache.org/docs/current/user/installation/)\n",
    "(C:\\ProgramData\\Anaconda3) C:\\Users\\pasilva>pip install --index-url=http://pypi.python.org/simple --trusted-host pypi.python.org toree"
   ]
  },
  {
   "cell_type": "markdown",
   "metadata": {},
   "source": [
    "## Install Jupyter toree kernel\n",
    "(C:\\ProgramData\\Anaconda3) C:\\Users\\pasilva>jupyter toree install --spark_home="
   ]
  },
  {
   "cell_type": "markdown",
   "metadata": {},
   "source": [
    "## Install Jupyter toree kernel\n",
    "(C:\\ProgramData\\Anaconda3) C:\\Users\\pasilva>jupyter toree install --spark_home=%SPARK_HOME%"
   ]
  },
  {
   "cell_type": "markdown",
   "metadata": {},
   "source": [
    "## Confirmation of Jupyter kernels installed\n",
    "(C:\\ProgramData\\Anaconda3) C:\\Users\\pasilva>jupyter kernelspec list\n",
    "\n",
    "\n",
    "(C:\\ProgramData\\Anaconda3) C:\\Users\\pasilva>echo %SPARK_HOME%\n",
    "c:\\spark\n",
    "\n",
    "(C:\\ProgramData\\Anaconda3) C:\\Users\\pasilva>jupyter toree install --spark_home=%SPARK_HOME%\n",
    "[ToreeInstall] Installing Apache Toree version 0.1.0\n",
    "[ToreeInstall]\n",
    "Apache Toree is an effort undergoing incubation at the Apache Software\n",
    "Foundation (ASF), sponsored by the Apache Incubator PMC.\n",
    "\n",
    "Incubation is required of all newly accepted projects until a further review\n",
    "indicates that the infrastructure, communications, and decision making process\n",
    "have stabilized in a manner consistent with other successful ASF projects.\n",
    "\n",
    "While incubation status is not necessarily a reflection of the completeness\n",
    "or stability of the code, it does indicate that the project has yet to be\n",
    "fully endorsed by the ASF.\n",
    "[ToreeInstall] Creating kernel Scala\n",
    "[ToreeInstall] Installed kernelspec apache_toree_scala in C:\\ProgramData\\jupyter\\kernels\\apache_toree_scala\n",
    "\n",
    "(C:\\ProgramData\\Anaconda3) C:\\Users\\pasilva>## Install Jupyter toree kernel\n",
    "'##' não é reconhecido como um comando interno\n",
    "ou externo, um programa operável ou um arquivo em lotes."
   ]
  },
  {
   "cell_type": "markdown",
   "metadata": {},
   "source": [
    "## References\n",
    "https://www.youtube.com/watch?v=nRG8FdSbPhA\n",
    "\n",
    "\n",
    "\n",
    "https://spark.apache.org/docs/latest/quick-start.html\n",
    "Next Article\n",
    "https://spark.apache.org/docs/latest/rdd-programming-guide.html#using-the-shell\n",
    "https://spark.apache.org/docs/latest/rdd-programming-guide.html\n",
    "https://spark.apache.org/docs/latest/sql-programming-guide.html\n",
    "https://spark.apache.org/docs/latest/cluster-overview.html"
   ]
  },
  {
   "cell_type": "code",
   "execution_count": null,
   "metadata": {
    "collapsed": true
   },
   "outputs": [],
   "source": []
  }
 ],
 "metadata": {
  "kernelspec": {
   "display_name": "Python 3",
   "language": "python",
   "name": "python3"
  },
  "language_info": {
   "codemirror_mode": {
    "name": "ipython",
    "version": 3
   },
   "file_extension": ".py",
   "mimetype": "text/x-python",
   "name": "python",
   "nbconvert_exporter": "python",
   "pygments_lexer": "ipython3",
   "version": "3.6.0"
  }
 },
 "nbformat": 4,
 "nbformat_minor": 2
}
